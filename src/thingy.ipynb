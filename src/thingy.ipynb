{
 "cells": [
  {
   "cell_type": "code",
   "execution_count": null,
   "outputs": [],
   "source": [
    "df = pd.read_json(\"../database-unclean/all/train_period_data.jsonlist\", orient='list', lines=True)\n"
   ],
   "metadata": {
    "collapsed": false
   }
  },
  {
   "cell_type": "code",
   "execution_count": null,
   "outputs": [],
   "source": [
    "def grab_top_comment(post_id):\n",
    "   submission = reddit.submission(id=post_id)\n",
    "   submission.submission_type = 'best'\n",
    "   submission.comments.replace_more(limit=0)\n",
    "   comments = list(submission.comments)[0].replies.list()\n",
    "   non_op_responses = []\n",
    "   for c in comments:\n",
    "      #print(c.author, \" \", submission.author)\n",
    "      if c.author is not None:\n",
    "         if c.author.name == submission.author.name:\n",
    "            #print(\"boop\")\n",
    "            non_op_responses.append(\"OP: \" + c.body)\n",
    "      else:\n",
    "         non_op_responses.append(c.body)\n",
    "\n",
    "   return non_op_responses"
   ],
   "metadata": {
    "collapsed": false,
    "pycharm": {
     "is_executing": true
    }
   }
  },
  {
   "cell_type": "code",
   "execution_count": 9,
   "outputs": [
    {
     "name": "stdout",
     "output_type": "stream",
     "text": [
      "Voted_Quimby   IIIBlackhartIII\n",
      "IIIBlackhartIII   IIIBlackhartIII\n",
      "boop\n",
      "Outofmany   IIIBlackhartIII\n",
      "loercase   IIIBlackhartIII\n",
      "stevegcook   IIIBlackhartIII\n",
      "bunker_man   IIIBlackhartIII\n",
      "garnteller   IIIBlackhartIII\n",
      "THE_LAST_HIPPO   IIIBlackhartIII\n",
      "None   IIIBlackhartIII\n",
      "garnteller   IIIBlackhartIII\n",
      "garnteller   IIIBlackhartIII\n",
      "None   IIIBlackhartIII\n",
      "Voted_Quimby   IIIBlackhartIII\n",
      "loercase   IIIBlackhartIII\n",
      "Voted_Quimby   IIIBlackhartIII\n",
      "almightySapling   IIIBlackhartIII\n",
      "Outofmany   IIIBlackhartIII\n",
      "loercase   IIIBlackhartIII\n",
      "loercase   IIIBlackhartIII\n",
      "NJFiend   IIIBlackhartIII\n",
      "stevegcook   IIIBlackhartIII\n",
      "garnteller   IIIBlackhartIII\n",
      "garnteller   IIIBlackhartIII\n",
      "sailinator   IIIBlackhartIII\n",
      "garnteller   IIIBlackhartIII\n",
      "kingpatzer   IIIBlackhartIII\n",
      "pantaloonsofJUSTICE   IIIBlackhartIII\n",
      "None   IIIBlackhartIII\n",
      "solomon34   IIIBlackhartIII\n",
      "_Roark   IIIBlackhartIII\n",
      "Voted_Quimby   IIIBlackhartIII\n",
      "Voted_Quimby   IIIBlackhartIII\n",
      "Outofmany   IIIBlackhartIII\n",
      "loercase   IIIBlackhartIII\n",
      "loercase   IIIBlackhartIII\n",
      "agenthex   IIIBlackhartIII\n",
      "NJFiend   IIIBlackhartIII\n",
      "NJFiend   IIIBlackhartIII\n",
      "NJFiend   IIIBlackhartIII\n",
      "garnteller   IIIBlackhartIII\n",
      "garnteller   IIIBlackhartIII\n",
      "pantaloonsofJUSTICE   IIIBlackhartIII\n",
      "None   IIIBlackhartIII\n",
      "None   IIIBlackhartIII\n",
      "Voted_Quimby   IIIBlackhartIII\n",
      "Voted_Quimby   IIIBlackhartIII\n",
      "Outofmany   IIIBlackhartIII\n",
      "loercase   IIIBlackhartIII\n",
      "loercase   IIIBlackhartIII\n",
      "NJFiend   IIIBlackhartIII\n",
      "pantaloonsofJUSTICE   IIIBlackhartIII\n",
      "Voted_Quimby   IIIBlackhartIII\n",
      "loercase   IIIBlackhartIII\n"
     ]
    }
   ],
   "source": [
    "comments = grab_top_comment(\"2r3lm3\")"
   ],
   "metadata": {
    "collapsed": false
   }
  },
  {
   "cell_type": "code",
   "execution_count": 10,
   "outputs": [],
   "source": [
    "thingy = \" \".join(comments)"
   ],
   "metadata": {
    "collapsed": false
   }
  },
  {
   "cell_type": "code",
   "execution_count": 11,
   "outputs": [
    {
     "data": {
      "text/plain": "Downloading:   0%|          | 0.00/990M [00:00<?, ?B/s]",
      "application/vnd.jupyter.widget-view+json": {
       "version_major": 2,
       "version_minor": 0,
       "model_id": "74f72a60e3884d25997b7603753f7dbf"
      }
     },
     "metadata": {},
     "output_type": "display_data"
    },
    {
     "name": "stderr",
     "output_type": "stream",
     "text": [
      "C:\\Users\\yokon\\anaconda3\\lib\\site-packages\\huggingface_hub\\file_download.py:127: UserWarning: `huggingface_hub` cache-system uses symlinks by default to efficiently store duplicated files but your machine does not support them in C:\\Users\\yokon\\.cache\\huggingface\\hub. Caching files will still work but in a degraded version that might require more space on your disk. This warning can be disabled by setting the `HF_HUB_DISABLE_SYMLINKS_WARNING` environment variable. For more details, see https://huggingface.co/docs/huggingface_hub/how-to-cache#limitations.\n",
      "To support symlinks on Windows, you either need to activate Developer Mode or to run Python as an administrator. In order to see activate developer mode, see this article: https://docs.microsoft.com/en-us/windows/apps/get-started/enable-your-device-for-development\n",
      "  warnings.warn(message)\n"
     ]
    }
   ],
   "source": [
    "from transformers import pipeline\n",
    "from transformers import AutoTokenizer, AutoModelForSeq2SeqLM\n",
    "\n",
    "tokenizer = AutoTokenizer.from_pretrained(\"pszemraj/long-t5-tglobal-base-16384-book-summary\")\n",
    "\n",
    "model = AutoModelForSeq2SeqLM.from_pretrained(\"pszemraj/long-t5-tglobal-base-16384-book-summary\")"
   ],
   "metadata": {
    "collapsed": false
   }
  },
  {
   "cell_type": "markdown",
   "source": [],
   "metadata": {
    "collapsed": false
   }
  },
  {
   "cell_type": "code",
   "execution_count": null,
   "outputs": [
    {
     "name": "stderr",
     "output_type": "stream",
     "text": [
      "C:\\Users\\yokon\\anaconda3\\lib\\site-packages\\transformers\\modeling_utils.py:722: FutureWarning: The `device` argument is deprecated and will be removed in v5 of Transformers.\n",
      "  warnings.warn(\n"
     ]
    }
   ],
   "source": [
    "import torch\n",
    "from transformers import pipeline\n",
    "\n",
    "summarizer = pipeline(\n",
    "   \"summarization\",\n",
    "   \"pszemraj/long-t5-tglobal-base-16384-book-summary\",\n",
    "   device=0 if torch.cuda.is_available() else -1,\n",
    ")\n",
    "\n",
    "result = summarizer(thingy)"
   ],
   "metadata": {
    "collapsed": false,
    "pycharm": {
     "is_executing": true
    }
   }
  },
  {
   "cell_type": "code",
   "execution_count": null,
   "outputs": [],
   "source": [
    "print(result[0]['summary_text'])"
   ],
   "metadata": {
    "collapsed": false
   }
  }
 ],
 "metadata": {
  "kernelspec": {
   "display_name": "Python 3",
   "language": "python",
   "name": "python3"
  },
  "language_info": {
   "codemirror_mode": {
    "name": "ipython",
    "version": 2
   },
   "file_extension": ".py",
   "mimetype": "text/x-python",
   "name": "python",
   "nbconvert_exporter": "python",
   "pygments_lexer": "ipython2",
   "version": "2.7.6"
  }
 },
 "nbformat": 4,
 "nbformat_minor": 0
}
