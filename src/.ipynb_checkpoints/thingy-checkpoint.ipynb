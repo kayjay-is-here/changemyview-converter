{
 "cells": [
  {
   "cell_type": "code",
   "execution_count": 1,
   "metadata": {},
   "outputs": [],
   "source": [
    "import pandas as pd\n",
    "import praw\n",
    "\n",
    "reddit = praw.Reddit(\n",
    "   client_id=\"shhSLG17pw1aQYDtNEiZrw\",\n",
    "   client_secret=\"7UyzSVSvkti5y75IOs0w5SY4ZbG4TQ\",\n",
    "   user_agent=\"CMV_Scraper\",\n",
    ")\n",
    "\n",
    "df = pd.read_json(\"../database-unclean/all/train_period_data.jsonlist\", orient='list', lines=True)\n"
   ]
  },
  {
   "cell_type": "code",
   "execution_count": 61,
   "metadata": {},
   "outputs": [],
   "source": [
    "def grab_top_comment(post_id):\n",
    "    submission = reddit.submission(id=post_id)\n",
    "    submission.submission_type = 'best'\n",
    "    submission.comments.replace_more(limit=0)\n",
    "    comments = list(submission.comments)[0].replies.list()\n",
    "    responses = pros = cons = []\n",
    "    lastAuthor = submission.author.name\n",
    "    isProArgument = False\n",
    "    for c in comments:\n",
    "        \n",
    "        responses.append(c.body)\n",
    "        \n",
    "        if (c.body in responses):\n",
    "            continue\n",
    "        \n",
    "        if(not c.author):\n",
    "            author = \"[deleted]\"\n",
    "        else:\n",
    "            author = c.author.name\n",
    "\n",
    "        if(c.author.name != lastAuthor):\n",
    "            isProArgument = !isProArgument\n",
    "        \n",
    "        if(isProArgument):\n",
    "            pros.append(c.body)\n",
    "        else:\n",
    "            cons.append(c.body)\n",
    "        \n",
    "        lastAuthor = c.author.name\n",
    "        \n",
    "    # Pros = arguments for\n",
    "    # Pros = counterarguments\n",
    "    \n",
    "    return (pros, cons, responses)"
   ]
  },
  {
   "cell_type": "code",
   "execution_count": 62,
   "metadata": {},
   "outputs": [
    {
     "data": {
      "text/plain": [
       "[\"> But if you're shooting heroin, there's a good chance you'll become hooked.\\n\\nI get what you're saying but this a common misconception that I hate seeing repeated again and again. According to government stats less than a quarter of all heroin users ever become dependent on it. It has a high rate of dependency compared to other drugs, but the vast majority of users never become dependent - even if you assume that that figure is a conservative estimate.\\n\\n[Source](http://www.drugabuse.gov/publications/drugfacts/heroin)\",\n",
       " '> Drugs\\n\\nThis part is interesting because of the description of the complex nature of the situation. In the case of crimes resulting from drugs, I mentioned below that I believe the crime itself should be the primary offence, and the drug use which facilitated it would be a secondary offence that get tagged onto crimes. This would punish those who go crazy from drugs, without inherently punishing anyone for possession or use who has otherwise done nothing wrong. As to the rest, I understand the nature of the complex situation, but I\\'m not convinced that most people really think of it logically to that extent, nor that it is a problem helped by pushing it into the dark and more obscure recesses of society. Imagine momentarily a society where these kinds of drugs were legal and regulated the same way as a prescription or over the counter medication. Safe pre-made doses, regulated by bodies who can test that companies are making them to be as clean as possible, not something people have to do secretively in a dark alley trying to make sure they don\\'t get caught. I think part of the open use would be a more constructive conversation about the potential for abuse, and a reduction in drug related crimes and deaths. When we had high school drug intervention speeches, the officers came in with posters of dead kids and stories... almost all of them ended with \"his friend saw him passed out, got scared about someone finding out, and ran away leaving him to die without medical attention\". If there wasn\\'t the fear of punishment for using the drugs, I think a lot of these lives senselessly lost could have been saved. Beyond that... I can see what you\\'re saying about the issues with family and state, and the complex situations that could arise... but I think the current stigma of \"just trying to get high is wrong\" marginalizes and generalized a much more complex issue without leaving open a discussion for the complexity that surrounds it. \\n\\n> Incest\\n\\nThe big point you made was about children with parents, and about family matters. As for births, recessive genes isn\\'t a great argument since we don\\'t live in a eugenic society. People have disabled kids all the time, no one is legally stopping them. As for children with parents, I made the point below that it should be a discussion of people of consenting age... not that some mother was manipulating their 6 year old to pleasure them. Paedophilia is a separate debate, and something of a grey area beyond about age 14 or 15, but of course the power struggle is a concern, and I recognize that point. My argument was for 2 people above the legal age, however. As for a family dispute as a result... I think this is an issue even in normal relationships. Mother\\'s getting attached to girlfriends and trying to get them married, the fallout afterwards... same goes for friendship circles when 2 friends date. This is an issue of openness, discussion, and the maturity of the social group. If 2 people date and then break up and it causes some kind of dilemma, that\\'s an issue with the people not inherently the act itself. ',\n",
       " \"I can tell you 100% that all drugs should be legalized immediately, everything. The science on this is rock solid and beyond question. Particularly in the case of hard drugs abuse, these people always, always have some sort of history of extreme abuse or neglect in their lives. Their brains become wired specifically toward their drug of choice, opiates, amphetamines or both. A huge part of what keeps them down is the feeling of being social outcasts - feeling unable to integrate back into society, it's easier to turn back to addiction. In situations where they are treated with dignity, given access to health services. Even giving them access to free, clean drugs ends the cycle faster and more cheaply because they aren't exposing themselves to nearly as many risks like sexual abusing themselves, criminal behavior and the risk of OD. Experiments have been done and these things have been a resounding success.\\n\\nWhat's really happening is that the state is actually preying on these people. The vast state apparatus is proof of this, police, legal system, prisons. The corruption surrounding these entities is enormously powerful. \",\n",
       " 'Actually, let\\'s just take heroin for an example of a \"dangerous\" addictive drug. Is it really the drug that is causing the problem, or is it the person\\'s behaviour? It\\'s clearly the latter, since the drug is just a powder extracted from a plant, it\\'s not inherently problematic. It\\'s *connected* to problems, but that\\'s not to say it directly causes them. Is addiction the culprit? Not necessarily, as being addicted to something doesn\\'t harm anyone but the addict, and only when the addict chooses to perform antisocial actions to feed their addiction. Addiction is not even a socially devastating event in any case; plenty of cigarette smokers attest to the prevalence of benign addiction in our society. If heroin were not illegal it would cost pennies to feed a habit, meaning an addict would not have to rob or steal. If the argument is then that the intoxication leads to antisocial activities keep in mind that, again, we have plenty of intoxicating activities in our society (alcohol is the big one) and the moral fabric has not degraded to a point where we have been ruined by it. We are adults and we can choose appropriate times and places for intoxication. We forbid intoxication when it can be societally dangerous (driving, operating machines) and morally abhor it when we feel it is inappropriate (around children, etc).\\n\\nThere is no rational reason for us to condone some drugs and forbid others, only moral habit, ingrained by culture. Some people in the world have a greater propensity for self-destruction than others, and these people often turn to drugs to escape life and hurt themselves. This is up to them, as they are adults and they can do as they choose. It is a moral evasion for society to blame drugs for the problem and not the user, as it allows us to blame an externality for our problems rather than human nature, which is tantamount to avoiding taking responsibility for our own actions.',\n",
       " \"1 in every 4 still seems high enough that I wouldn't want too many people doing it. \",\n",
       " \"Saying that not everyone who does something becomes hooked doesn't make it good to do. If you said only 1/4 of people who drive drunk kill anyone so therefore its not a huge deal, that would be pretty bad logic.\",\n",
       " \">Imagine momentarily a society where these kinds of drugs were legal and regulated the same way as a prescription or over the counter medication.\\n\\nWe don't have to imagine.  We can look at *our* society, where opiates are tightly controlled, yet we regularly read about people who got put on oxycontin for pain, became addicted, and their life goes to hell.  These are people who aren't doing it for a high, just to function.  \\n\\nImagine if we increased the number of people that it was available to a thousand-fold, including people who don't think through the consequences of addiction.  The can't be a good thing.\\n\\nSocietal disapproval is the only tool beyond laws to prevent behavior harmful to society - and can be more effective than laws.\\n\\n>Incest\\n\\nNo, we don't stop people from having disabled children, but we don't want to encourage situations that increase the incidence either.  Because once again, society pays to help take care of the children.\\n\\nAs for age of consent, there will ALWAYS been a power disparity.  A 20 year old can't have a healthy, equal relationship with their 50 year old parent.  A parental relationship continues, regardless of age.\\n\\nAs for the friend group, friends change over your life.  Family doesn't.  It's the most basic social group.  Tearing it apart has more impact than a friend group fragmenting.\",\n",
       " \"Hey, I think your view is mostly right but I want to touch on the drug part, which I think is also mostly right. Still, if you dont do anything but get high, even without directly harming anyone else, its a problem; we're all living in this community/country/world together and if you're  taking up resources and not contributing then your harming the rest. People dont have a right to expect a person not do drugs and get high all the time without contributing, the same way that person doesnt have a right to accept all the beneficits of society w/o making a contribution. \\n\\nLike I said, I mostly agree with you. The drug point probably needs some caveats though. No direct harm to others =/= no harm to others\",\n",
       " 'Most importantly, you noted that moral objections to behaviour are arbitrary and socially constructed. Aversion to incest is decidedly not arbitrary, and serves an important evolutionary function of promoting genetic diversity.\\n\\nOn a semantic note alone, your argument does not stand up to incest, given that there is prudent evolutionary logic that inhibits our ability to be sexually attracted to family members.',\n",
       " \"I wasn't addressing whether or not they should be legalized, but why it's in society's interest to discourage drug use.\",\n",
       " 'Right, guns don\\'t kill people, people kill people.\\n\\nBut it\\'s a hell of a lot easier to kill people with an Uzi than a spoon.\\n\\nIt\\'s also a hell of a lot easier to become a drain on society with cheap and abundant heroin than without it.\\n\\n>There is no rational reason for us to condone some drugs and forbid others, only moral habit, ingrained by culture. \\n\\nOf course there is.  How about \"based on the amount of harm they can cause\" as a rational reason?  It works for deciding which weapons we ban, after all.\\n\\nI\\'m also not sure where you\\'re getting \"it is a moral evasion for society to blame drugs for the problem and not the user\" - the whole point of the post is about society deciding that behaviors such as shooting heroin are immoral.',\n",
       " '> Is it really the drug that is causing the problem, or is it the person\\'s behaviour?\\n\\nOkay, then the stigma is against the behaviour of *using* the drug, not the drug itself. This changes nothing of substance about the question at hand.\\n\\n> There is no rational reason for us to condone some drugs and forbid others, only moral habit, ingrained by culture.\\n\\nWhen particular drugs have very statistically reliable effects on moral habits, then we have rational reason to forbid them. Perhaps some percentage of the population has sufficient resources and moral strength to live with a heroin addiction without doing anything antisocial. Some percentage of the population also possesses the skill and reflexes to drive drunk without killing anyone. You are still forbidden to risk it, because it\\'s not just your own safety you\\'re risking.\\n\\nWhen we, as a society, have committed ourselves to intervening in medical emergencies and mental health crises on your behalf, when we\\'ve committed ourselves to not simply letting you starve if you\\'re not feeding yourself, then we have a vested interest in your future health and therefore in the risks you choose to take with your own body.\\n\\nSome risks are deemed collectively worthwhile, others not. Alcohol is legal because sufficiently many people *wanted* it legal, whilst being able to participate in democracy, to overturn a prohibition law. Heroin is not legal because there are fewer people who want it, and they are further from democratic enfranchisement, compared to those who don\\'t do heroin and don\\'t want to pay for the resulting medical emergencies and chronic issues.\\n\\nIt\\'s an arbitrary \"risk\" line for society to draw collectively, but it\\'s no more arbitrary than setting the speed limit in this-or-that area to 60 rather than 70, or the acceptable blood alcohol content to be 0.05 mg/100ml. You might think you can handle yourself beyond these limits, and you might even be right, but the rest of us are not willing to trust you on that, given that we\\'ll be the ones cleaning up the mess if you\\'re wrong.',\n",
       " 'Sure but someone saying, \"if you do heroin, there\\'s a good chance you\\'re going to become a junkie and mug people\" is a very disingenuous exaggeration. The odds are not good, they\\'re one in four. Sort of ironic that OP is talking about the harms of stigmas and taboos, and the top answer reinforces exactly the cartoonish perception that stigmatizes heroin use so much.',\n",
       " \"> We can look at our society, where opiates are tightly controlled, yet we regularly read about people who got put on oxycontin for pain, became addicted, and their life goes to hell.\\n\\nPoor medical practices aren't a good example here. If a patient was given so many opiates they developed an addiction then that is a medical failing. If they've taken somebody else's medication and developed an addiction then, again, the real antisocial problems occur when they cannot get or afford their drugs anymore. Oxycontin sells for upwards of $30 a pill on the street, it's a crippling habit to afford. If they had their drugs cheaply available, or free, they would simply be an addict, not necessarily a destructive and antisocial addict.\",\n",
       " 'I think you can have societal disapproval without stigma. Disapproval is finding out your friend is addicted to Oxy and forcing them into rehab. Stigma is finding out and disassociating from them because of it. Stigma makes it easy to demonize addicts as hopeless causes or less-than-people; I think society could be more open and honest about substance abuse without necessarily condoning it.\\n\\nAlso, not sure what OP was referring to, but some people when they talk about legalizing these drugs are referring to having them available by prescription as a treatment for addiction itself, for cases where abstinence or reduced use has not worked. Prescription drugs, in contrast, are a treatment for something else. Some people envision having even stricter legal controls than prescription drugs, eg having an injection facility where you can go for a controlled dose of heroin that never leaves the facility. There are many shades of legalization.',\n",
       " '>As for age of consent, there will ALWAYS been a power disparity.  A 20 year old can\\'t have a healthy, equal relationship with their 50 year old parent.\\n\\nWhy not? Evidence? I should probably use a throwaway for this but whatever, I\\'ll say it: while I am not specifically attracted to my father, I am not repulsed by the idea. Were he my \"type\" and not romantically involved with my mother (and further, were he gay) I see no reason why I would necessarily be in an \"unhealthy\" relationship with him just because he is my father. It just doesn\\'t add up. The \"power dynamic\" is A) not necessarily going to exist in the sexual/romantic relationship, B) necessarily *bad* or unhealthy, nor C) absent from non-incestuous relationships.',\n",
       " \"Society is a construct. Where do you get this idea that it even really exists and has some sort of narrative? Where do you get the idea that it ought to push it's narrative? Of course no-one wants harm to come to other people but seriously, you're just propping up this top down power structure that dictates to people what is right and wrong. Where does that assumption even come from? Why not my assumption that people do well when left alone? If we have a conscience why aren't we free to use them? \",\n",
       " \"The point is that deciding what drugs to ban is arbitrary. Alcohol is [carcinogenic](http://en.wikipedia.org/wiki/List_of_IARC_Group_1_carcinogens), habit forming, causes antisocial behaviour, and can cause lethal withdrawal. [By some measures *heroin is safer than alcohol.*](http://en.wikipedia.org/wiki/Alcohol_abuse#mediaviewer/File:HarmCausedByDrugsTable.svg) Yet people aren't out in the streets demanding alcohol prohibition (anymore). Indeed, its prohibition was a complete disaster. So there is clearly a disconnect here if we are looking at prohibiting some drugs based purely on objective data.\\n\\nThe thing is, *plenty of things we do in life are dangerous.* And we don't prohibit them because we're grown adults and we can do what we want. Belief in personal freedom is a huge component of Western morality, yet we maintain drug prohibition when there is objective evidence that not only does it not work but also that it exacerbates the problems we have with illegal drugs rather than mitigating them.\\n\\nI agree with the OP, the only reason people object (mostly) to hard drug use is cultural conditioning. There is no rational reason. Legalize it, make it cheap and safe, and stop ostracizing the poor and vulnerable subset of society that chooses to do these things to excess.\\n\\nOne edit: \\n\\n> It's also a hell of a lot easier to become a drain on society with cheap and abundant heroin than without it.\\n\\nHeroin is already abundant. It's just not cheap. Reducing its cost to pennies a dose (or even providing it free) would turn a huge portion of our underclass from poor, antisocial, self-destructive fringe dwellers into simply self-destructive fringe dwellers. If you still want to look down on them morally for their choices that's up to you.\",\n",
       " '> When particular drugs have very statistically reliable effects on moral habits, then we have rational reason to forbid them.\\n\\nI somewhat agree with this, but keep in mind the drug does not directly *cause* antisocial effects. It simply intoxicates the user and they nod off in a chair. We may condemn this behaviour as a \"waste of their life\", but it\\'s arguably similar to sitting and watching TV or playing video games for hours on end, other activities that some people (i.e.: my parents\\' generation) consider a \"waste of their life.\" The true antisocial behaviours come from the addict trying to get more drug without the means, leading to the neglect of the normal parts of their life (work, housecleaning, proper food, etc) and theft, begging, etc. It could be argued that, say, methamphetamine would be a better candidate for prohibition since the behaviour of the individual *while on the drug* is more dangerous. Then again, a heavily drunk person can be just as problematic.\\n\\nI simply argue that drug prohibition is akin to abstinence-only sex education: naive and ineffective at best, and at worst actually causing more problems than it solves.\\n\\nMy edit for your edit: :)\\n\\n> Alcohol is legal because sufficiently many people wanted it legal, whilst being able to participate in democracy, to overturn a prohibition law. Heroin is not legal because there are fewer people who want it, and they are further from democratic enfranchisement, compared to those who don\\'t do heroin and don\\'t want to pay for the resulting medical emergencies and chronic issues.\\n\\nSpot on. But I believe the medical emergencies/chronic issues of addicts could be enormously reduced by treating addiction as a medical, rather than criminal problem. The prevalence of hard drugs in maximum-security prisons attests to the fact that we will *never* make them disappear, no matter how hard the police crack down, so the best we can do is harm reduction.\\n\\nAs an aside, we appear to have sidetracked into Ye Olde Druge Prohibition debate instead of the moral issue the OP was talking about.',\n",
       " \"1 in 4 is an extremely good chance. Also that study only covers people who have tried it at least *once* in their lives... Its not like people are able to regularly use heroin and only 25% of them get hooked.  Basically each time you do heroin, it increases your chances of becoming hooked.  I would be willing to wager that the 75% who never became addicted were only using once or twice in their entire life.\\n\\nI know there is a tendency to exaggerate the addictive nature of a lot of drugs, but heroin isn't one of them. \",\n",
       " \"When we're talking about stakes this large, 1 in 4 is pretty damn high.  If  I had a 1 in 4 chance of winning the lottery and changing my life forever, you can be sure I'd be buying a ticket right away.  \",\n",
       " \"If most people were told that drinking Coke once a day would lead to a one in four chance of getting cancer, no one would drink coke.  A 25% change of getting hooked is extremely high (and actually are higher than I expected).\\n\\nCartoonish?  You've gotta be kidding me.\",\n",
       " 'I agree- the OP only mentions \"stigmas\" in the title, and doesn\\'t go on to explain it.  Blind vilification of the mistakes people make is in no way helpful.\\n\\nI also am in favor of some forms of legalization.  I was merely arguing that there was plenty of good reason for society to to find things that harm society to be \"bad\".',\n",
       " '[deleted]  \\n ^^^^^^^^^^^^^^^^0.9734 \\n > [What is this?](https://pastebin.com/64GuVi2F/28557)',\n",
       " 'If you want to start your own society, go for it.  That\\'s what I was talking about in my Montana reference - if you are literally off on your own, not interacting with others, feel free to grow and use whatever drugs you want.  \\n\\nBut in the context of the current society, we\\'ve made decisions like \"if the parents aren\\'t capable of providing adequate (as defined by society) care for their children, we, society, will step in and care for them at our own expense\".  In that case, your choices are no longer just impacting you.\\n\\nAs for your conscience?  If it doesn\\'t bug you to cut in line, then it\\'s ok to do so?  In general, even though it\\'s best for you, personally, it\\'s the disapproval of others (in a queuing culture) that keeps you from being a dick, even if you don\\'t see it that way.',\n",
       " \"> The point is that deciding what drugs to ban is arbitrary.\\n\\nDamn near everything we do in society is arbitrary. We arbitrarily decided that our choice of government would be a liberal democratic republic for example. We had other choices, but that is the one that won out. Now it did so for a host of historical contextual reasons, but it wasn't the only available choice nor was it in some way objectively best. It was just what was popular. That's the definition of arbitrary. \\n\\nAnd if it wasn't for that arbitrary choice, then the option to even discuss what drugs we would like banned and which we would not want banned wouldn't be open to discussion. But the point is, just because something is an arbitrary decision doesn't mean it's a random decision or that it is a bad decision. It just means that other lines of reasoning would lead to other equally valid choices. Arbitrary is 'decided by one's liking, dependent upon will or pleasure; at the discretion or option of any one' (OED).  But simply because a choice is subjective (arbitrary) doesn't make it illogical. \\n\\nArbitrary choices can and are still logically supported.\\n\\nAt issue for reasonableness and logic in arbitrary choices is the question of if you shared the starting assumptions of those making the choice, would the choice made be a logically consistent outcome. \\n\\nIf the question is the OP's point about the reasonableness of moral injunctions, then the question of the arbitrariness of the choices made is really not addressing the question in any meaningful way. \\n\\n\",\n",
       " \"I don't think you know what arbitrary means. Strawberries also have carcinogens in them but we don't ban them because they aren't as bad for you. Anyone who tries to deny the difference in effects between heroin and beer is deluding themselves.\\n\\nYour high-and-mighty stance on garnteller looking down on the poor like a big bad upper-class jerk is also a giveaway you're soapboxing. I'm glad you know about the abundant evidence without citing it too, great job.  \",\n",
       " '> but keep in mind the drug does not directly cause antisocial effects\\n\\nI\\'m not sure if the distinction you\\'re trying to make here, really exists; the \"direct\" or \"indirect\" distinction. The alcohol in a drunk driver\\'s system does not directly cause deaths either, it merely raises the statistical likelihood of deaths, via a complex constellation of influences which it exerts on the driver\\'s behaviours. Any deaths which result are still \"accidents\", in that they arise from the driver\\'s failure to meet some kind of reaction challenge. The driver is still \"trying\" not to kill people, they\\'re just not as good at it.\\n\\nI think it\\'s just as arbitrary to only consider the behaviour of a drug user *during* the high, to be acting under that drug\\'s influences, as you\\'re doing for meth. A sober person with withdrawal symptoms is acting under an influence too. They may be *trying* to live up to particular behavioural standards, but impaired in their ability to do so.',\n",
       " \">  Also that study only covers people who have tried it at least once in their lives... Its not like people are able to regularly use heroin and only 25% of them get hooked.\\n\\nWhat do you mean by that? Aren't the people who regularly use heroin seen as addicted? is there a line between an addict who uses heroin regularly or a non-addict who uses heroin regularly?\",\n",
       " \"> I know there is a tendency to exaggerate the addictive nature of a lot of drugs, but heroin isn't one of them. \\n\\nThen post some sources. You are just throwing around numbers without any backup.\",\n",
       " '> I would be willing to wager that the 75% who never became addicted were only using once or twice in their entire life.\\n\\nNa, I don\\'t think so. That particular study didn\\'t look into it but it does refer to other survey data which only included drug users who used heroin at least 6 times. They did this to exclude experimental users. This survey showed that:\\n\\n\"an estimated 71.2 percent of the daily heroin users reported having felt dependent on heroin. By comparison, an estimated 8.9 percent of the never daily users reported having had feelings of dependence on heroin. This difference in percentages from about 9 to 71 percent is consistent with presumed toxicity of nondaily heroin use versus daily heroin use.\" [Source] (http://ww1.drugabuse.gov/pdf/monographs/92.pdf)\\n\\nBasically, the people who used heroin every day had a high likelihood of feeling dependent, yes. Everyone else who used heroin less-than-daily but on 6 or more occasions had a very low likelihood of feeling dependent - so that 75% from before isn\\'t just one or two-time users. Yes it\\'s self-reported and subjective but it\\'s the best data I could find.',\n",
       " \"Well you have a 50% chance of dying from a smoking-related illness if you smoke cigarettes, and lots of people (far more people than use heroin, cocaine, and meth combined) still use those. 25% is high but it still remains that you are far more likely (75% likely) to _not_ become an addict. Maybe what I'm taking issue with is more your phrasing, which sounded like, 'If you do heroin, you are likely to become a junkie.' That isn't true. It's cartoonish because you're taking the less likely outcome and making it sound like the most likely, and more than that focusing specifically on the worst case scenario of the non-functioing, stealing, OD-ing junkie within that less-likely outcome.\",\n",
       " '>But if you\\'re shooting heroin, there\\'s a good chance you\\'ll become hooked.\\n\\nThis is not how addiction works, we have good science to prove it. You\\'re simply caught up in this war on drugs propaganda but you\\'re struggling to accept it. This entity called \"society\" at large that you believe is shaping values is not real. This is propaganda 101. Society is being lead into these values by mouth pieces who make decisions for us. \\n\\nWe don\\'t exist just be facsimiles. It\\'s not how any of this is supposed to work. The social stigma you fear is an illusion. ',\n",
       " 'I\\'m making a rational argument here and you\\'re accusing me of \"soapboxing?\" You\\'re bringing *strawberries* into a debate about hard drugs here, I think you\\'re derailing things a little.\\n\\nWhere did I claim \"abundant evidence\" without citing sources? You can look at [drug policy in Portugal](en.wikipedia.org/wiki/Drug_policy_of_Portugal#Observations), which decriminalized *all* drugs in 2001, for evidence as to what the effects are of loosening drug laws. The Netherlands provides [heroin for free to addicts](https://news.vice.com/article/only-in-the-netherlands-do-addicts-complain-about-free-government-heroin) and it has had a massive public health benefit. Again, nothing is perfect, but we\\'re not trying to make society perfect here, simply improve the lives of our citizens.\\n\\nFrankly, I think your aggression is unwarranted, and you haven\\'t contributed to the debate. I get the feeling I\\'m getting a bit of animosity here because I\\'m debating someone with \"81 deltas\".',\n",
       " 'You\\'re right about the alcohol, which is why we ban *drunk driving*, not drinking itself. Similarly we ban driving under *any* intoxicant or *any* intoxicated state. Being sleepy isn\\'t illegal, but driving sleepy *is*. Getting drunk isn\\'t, but beating your wife while drunk *is.* That\\'s the distinction. I would argue people should not be driving or operating heavy machinery if they are impaired in any way at all, and I would suggest that being under the effects of *withdrawal* does not constitute proper sobriety.\\n\\nDrugs may predispose towards certain behaviours (and they do), like sitting around while high on pot, fighting while drunk, or being a loud asshole while on cocaine, but, again, this is not reason enough to ban the drug. We expect people to behave appropriately in society and not break the \"big\" laws (i.e.: cause harm to others), and if they are unable to do so they should be encouraged to stop by their friends, family, or whatever. It is not the role of the state to prevent activities which \"predispose\" towards certain behaviours as there is no certainty that a crime will be committed. People being able to enjoy their lives should take precedence.',\n",
       " 'Yes, and that difference is consequences.\\n\\nIf you shoot up because you had a long day at work, pass out on your side, and wake up to do it again the next day, then you are probably not an addict.\\n\\nIf you lost your job because you were stoned, sold all your stuff for money, spent all your money on drugs, can\\'t pay your bills, and still want to shoot up, you are addicted.\\n\\nIf you ever think, \"I want to quit but can\\'t,\" you are an addict.',\n",
       " \"I mean that each time you do heroin, you get closer to getting addicted.  \\n\\nI suppose its possible to use heroin regularly (like alcohol) and not really be addicted, but given most statistics and nearly every heroin experience I have ever seen... It doesn't seem likely.\",\n",
       " \"I am commenting about the numbers that vote squinty posted above. It says 1 in 4 become addicted. They are saying that isn't significant. I think most people would say that is significant.\\n\\nEDIT: http://www.drugabuse.gov/publications/drugfacts/heroin\\n\\nThat was the original source that voted_quimby was quoting.  They are pointing to those numbers and saying that heroin is not very addictive because only 1 in 4 becomes addictive. My argument is that 1 in 4 is extremely addictive, especially when you take into consideration that this number is based on anyone who has ever tried heroin, *even once.*\\n\\nFrom personal experience, it is definitely possible to only do heroin once, but if you go back to do it a second and third time, I feel your chances to get hooked grow exponentially higher.  Personally I have never met anyone who can just do heroin every once in a while like alcohol or cocaine.  In my personal experience, it is definitely a more habit forming drug and most of the statistics seem to back that up.  I didn't realize there was so much confusion about this.\",\n",
       " \"Hey, I mean whatever.  I know people who have used heroin and not become hopelessly addicted.  Its definitely possible, but all these statistics seem to point to Heroin being really addictive, which is pretty much in line with everything I have seen from personal experience.\\n\\nI feel like you are splitting hairs. Heroin is addictive and its really shitty for your body. Do people paint it to be cartoonishly and unjustly evil? I don't think so.  I would say the reason people paint it in such a bad light is because once you are addicted, its an extremely ugly and painful process to get off of it.  Of all the drugs, I'm not sure why you would even try to defend heroin. I personally have never heard a good heroin story or seen a statistic that made me think heroin was being unjustly vilified by popular opinion.\",\n",
       " 'Everyone else seemed to understand that \"good chance\" meant a significant chance, not more likely than not.  If I could enter a lottery for $1 with a 1 in 100 chance of winning $1000, everyone would agree that I have a \"good chance\" of winning.  This is common usage.',\n",
       " \"Sorry, I haven't any idea what you're trying to say here.  \\n\\nAnother user posted a link to a study about how 1 in 4 heroin users become addition.  How is it that you think it works?\\n\\n>We don't exist just be facsimiles. It's not how any of this is supposed to work. The social stigma you fear is an illusion.\\n\\nUm, ok.\",\n",
       " 'I don\\'t care about deltas, but there are many many chemicals which are carcinogenic and you seem to think that the fact that alcohol and heroin both having some makes them more or less the same. Toothpaste and many things you encounter throughout the day have carcinogens so their mere presence is irrelevant. \\n\\nI understand what Portugal did, but the United States isn\\'t Portugal, and assuming everything will be parallel is foolish. \\n\\nMy aggression is brought on by the use of words that have no place in your sentences and are used simply to mislead a given reader. Empty rhetoric used as some kind of placeholder for a compelling argument.\\n\\n\"Plenty of things we do in life are dangerous. And we don\\'t prohibit them because we\\'re grown adults and we can do what we want,\" is exactly what I mean. This argument could be used to justify anything being legal so long as it had no absolutely direct harm to another human being, but we know that makes no sense, so we dismiss it as a reasonable argument. \\n\\nPutting quotation marks around \"dangerous\" when referring to heroin is as callous as it is insulting. Have you ever met a heroin addict? Your writing makes it seem like it is as harmless as getting addicted to candycrush. Not to mention how you follow that up with a complete dissociation of cause and effect. \"Oh this person is doing hard drugs, well their actions are still there own and in no way affected by anything else! Yay, no causality!\" \\n\\nAn amalgamation of so many weird and illogical statements is not only unconvincing but just unpleasant to read.  ',\n",
       " \"> which is why we ban drunk driving, not drinking itself\\n\\nIf we're to hold to your previously stated standard, shouldn't we just ban running people over in cars, since that's the actually harmful behaviour? Everything which happens in between turning the key and actually striking a pedestrian, is still the drunk person's free will.\",\n",
       " \"If shooting up after work is a habit, you're toeing a fine line to addiction. \",\n",
       " \"> all these statistics seem to point to Heroin being really addictive... Of all the drugs, I'm not sure why you would even try to defend heroin\\n\\nLet's put it in the context of [other drugs](http://books.nap.edu/openbook.php?record_id=6376&page=95) then. 23% of heroin users become dependent, 32% of tobacco users, 15% of alcohol users, 18% of cocaine users... the rates are pretty similar, smoking tobacco has just as high a mortality rate and can directly kill the people around you, alcohol is worse for your bodily health and also contributes to tens of thousands of cases of accidental injury/death, rape, and domestic violence every year.... But by popular belief, _heroin_ is the worst of the lot, nothing else even comes close.\\n\\nMaybe you think overstating the risk is ok because it deters people from using it, how could that be a bad thing? I think that can be very bad. I think there is value in people understanding the true breadth and magnitude of the problem, both so that they can make informed decisions for themselves and for others. I think it's bad that people are so afraid of heroin that they won't even consider policies that could be construed as 'soft'. Decriminalized use, prescription heroin for addicts, syringe exchanges in many states, those options (though they have been shown to be effective at reducing the harms of abuse) are completely off the table because people are so afraid of it. I don't think that is helpful to users or to society.\",\n",
       " \"I don't know that most people did understand; I don't mean to attack or infer about you personally but in my experience both on Reddit and in real life (even with people who should know better, such as physicians), most people have a very exaggerated perception of heroin - thinking that it's addicting after the first time, or that 90% of people who use it die from it, or that heroin users are criminal junkies, or what have you. Your description implicitly reinforced those stereotypes, and I think that contributes to the harmful stigmas that are the subject of this thread. \\n\\nBoth times in the past that I have brought up the 25% figure on Reddit in the past, people have been very, very surprised and even disbelieving of it because it is so much lower than what they would have assumed. If we're going to talk about a subject that most people have misperceptions about, I think full objective disclosure and not playing into stereotypes is important.\",\n",
       " \"That study doesn't contradict anything I'm saying. \",\n",
       " '> This argument could be used to justify anything being legal so long as it had no absolutely direct harm to another human being.\\n\\nWith the caveat of \"no direct or *indirect*\" harm to another human being, I actually have no problem with this statement at all. I believe you should be able to do absolutely anything you want in the world as long as you do not harm others. Is this really a bad statement?',\n",
       " \"Haha, okay, you got me, that's a good point. :) But still, we don't ban alcohol because of drunk driving! Similarly, I see no reason to ban other drugs because they also get you intoxicated, and especially considering the intoxication from some of them is benign.\",\n",
       " \"You are not reading that study correctly.  Or rather you are also ignoring the percentage of people who tried it in the first place.  Notice that only 2% of the people interviewed for that study tried Heroin... and 23% became addicted.\\n\\nThe low percentage of people interviewed who have actually tried heroin, makes the percentage more powerful.  From such a small sample group and a quarter of them became addicted?  That is huge.  Also it is ignoring that alcohol and tobacco are sold cheaply and legally and alcohol is basically a cultural norm at this point.  The majority of people interviewed in that study had tried alcohol or cigarettes. If heroin was as socially accepted as cigarettes and alcohol, the percentage would go up.\\n\\nAlso one thing we haven't covered yet is the withdrawal process.  Heroin and cigarettes may be comparable in terms of addictiveness, but Heroin is harder to kick. Opioid withdrawal causes chills, cramps, sweating, diarrhea, nausea, anxiety, etc.  Nicotine withdrawal causes anxiety, difficulty in concentration and constipation.  Withdrawing from Heroin is a complete nightmare. \\n\\nIt is worth noting that heroin on its own (in proper non lethal doses) carries very little health risks.  It causes constipation and possibly some kidney damage, even after long term use. Heroin is feared as the big scary monster of the drug world, because it so hard to get off once you are addicted. \\n\\nI don't believe in overstating any risks.  The risk of heroin speaks for itself.  For the record, I think most drugs should be legal and ALL drugs decriminalized... But thats why its so important not to downplay the destructive nature of Heroin.  It shouldn't be illegal anymore than rat poison is illegal, but it should handled with about as much care.\\n\\n\",\n",
       " '1) There are a bevy of indirect harms in this case so the argument has no place.\\n\\n2) Otherwise it could make sense, you can read JSM if you like, he is germane on that.',\n",
       " \"Ok, I accept your viewpoint, but you are actually reading the source wrong. The 2% number on the left is a portion of the total population and the number on the right is a percentage _of that 2%_. If the number of users went up from say 2% to 3% of the population, the _absolute number_ of heroin-dependent users would go up - 23% of a bigger number is obviously more than 23% of a smaller number - but the rate would stay the same at 23%. Only 2% trying it doesn't make the 23% 'more powerful.' If anything, it does the opposite...\\n\\n> If heroin was as socially accepted as cigarettes and alcohol, the percentage would go up.\\n\\nIf the number of heroin users changed so drastically that it included a significant portion of the population, the rate of dependency might change somewhat - but we would expect it to go down, not up. The reason is this: heroin is currently socially unacceptable and a very uncommon drug. The 2% who are doing it now _despite those social stigmas_ are probably more risk-taking, impulsive, antisocial, less health-conscious, etc than the average person. People with these traits are more likely to become dependent, so they bring the dependency rate up. That rate of dependency is basically selecting for people who are more likely to become drug-dependent than the average person.\\n\\nConversely, almost everyone has used alcohol. So the population of alcohol users not only includes the same types of anti-social risk-takers that use heroin, but also people with average and above average risk-aversion and impulse control. These people are less likely to become dependent so they bring the overall dependency rate of alcohol down -they compensate for the high-risk people.\",\n",
       " \"Well, we could get all philosophical about this and say that *all* actions lead to harm by some convoluted trail of events, but we should really be reasonable and stick to direct or very close to direct events causing harm (e.g.: polluting a shared resource for personal gain, or something like that). There's no point in debating if we're going to get rendered down to semantics here.\"]"
      ]
     },
     "execution_count": 62,
     "metadata": {},
     "output_type": "execute_result"
    }
   ],
   "source": [
    "pros, cons, comments = grab_top_comment(\"2r3lm3\")\n",
    "pros"
   ]
  },
  {
   "cell_type": "code",
   "execution_count": null,
   "metadata": {},
   "outputs": [],
   "source": [
    "len(comments)"
   ]
  },
  {
   "cell_type": "markdown",
   "metadata": {},
   "source": []
  },
  {
   "cell_type": "markdown",
   "metadata": {},
   "source": []
  },
  {
   "cell_type": "code",
   "execution_count": 15,
   "metadata": {},
   "outputs": [],
   "source": [
    "from transformers import pipeline\n",
    "summarizer = pipeline(\"summarization\", model=\"t5-small\")"
   ]
  },
  {
   "cell_type": "code",
   "execution_count": null,
   "metadata": {},
   "outputs": [],
   "source": []
  },
  {
   "cell_type": "code",
   "execution_count": null,
   "metadata": {},
   "outputs": [
    {
     "name": "stderr",
     "output_type": "stream",
     "text": [
      "Your max_length is set to 200, but you input_length is only 133. You might consider decreasing max_length manually, e.g. summarizer('...', max_length=66)\n"
     ]
    },
    {
     "name": "stdout",
     "output_type": "stream",
     "text": [
      "53\n"
     ]
    },
    {
     "name": "stderr",
     "output_type": "stream",
     "text": [
      "Your max_length is set to 200, but you input_length is only 23. You might consider decreasing max_length manually, e.g. summarizer('...', max_length=11)\n",
      "Your max_length is set to 200, but you input_length is only 50. You might consider decreasing max_length manually, e.g. summarizer('...', max_length=25)\n",
      "Your max_length is set to 200, but you input_length is only 171. You might consider decreasing max_length manually, e.g. summarizer('...', max_length=85)\n",
      "Your max_length is set to 200, but you input_length is only 87. You might consider decreasing max_length manually, e.g. summarizer('...', max_length=43)\n",
      "Your max_length is set to 200, but you input_length is only 33. You might consider decreasing max_length manually, e.g. summarizer('...', max_length=16)\n"
     ]
    }
   ],
   "source": [
    "print(len(comments))\n",
    "summarized_posts = []\n",
    "for comment in pros:\n",
    "    comment = summarizer(comment, min_length=0, max_length=200)\n",
    "    if isinstance(comment, list):\n",
    "        comment = comment[0]['summary_text'] + \"\\n\"\n",
    "        summarized_posts.append(comment)"
   ]
  },
  {
   "cell_type": "code",
   "execution_count": null,
   "metadata": {},
   "outputs": [],
   "source": [
    "for i, post in enumerate(summarized_posts):\n",
    "    print(\"**Summarized**\")\n",
    "    print(post, \"\\n\")\n",
    "    "
   ]
  },
  {
   "cell_type": "code",
   "execution_count": null,
   "metadata": {},
   "outputs": [],
   "source": []
  }
 ],
 "metadata": {
  "kernelspec": {
   "display_name": "Python 3 (ipykernel)",
   "language": "python",
   "name": "python3"
  },
  "language_info": {
   "codemirror_mode": {
    "name": "ipython",
    "version": 3
   },
   "file_extension": ".py",
   "mimetype": "text/x-python",
   "name": "python",
   "nbconvert_exporter": "python",
   "pygments_lexer": "ipython3",
   "version": "3.9.13"
  }
 },
 "nbformat": 4,
 "nbformat_minor": 1
}
